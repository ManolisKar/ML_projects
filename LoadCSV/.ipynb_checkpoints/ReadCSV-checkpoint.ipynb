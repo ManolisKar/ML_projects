{
 "cells": [
  {
   "cell_type": "markdown",
   "metadata": {},
   "source": [
    "Machine learning repository:\n",
    "http://archive.ics.uci.edu/ml/index.php\n"
   ]
  },
  {
   "cell_type": "markdown",
   "metadata": {},
   "source": [
    "# Loading data from CSV file"
   ]
  },
  {
   "cell_type": "markdown",
   "metadata": {},
   "source": [
    "## 1: Python CSV reader"
   ]
  },
  {
   "cell_type": "markdown",
   "metadata": {},
   "source": [
    "https://docs.python.org/2/library/csv.html?__s=dtjiipvi7ms75zjfkldc"
   ]
  },
  {
   "cell_type": "code",
   "execution_count": 11,
   "metadata": {},
   "outputs": [
    {
     "name": "stdout",
     "output_type": "stream",
     "text": [
      "['pid', 'phonetype']\n",
      "['BK7610', 'iPhone']\n",
      "BK7610 iPhone\n",
      "['BU4707', 'iPhone']\n",
      "BU4707 iPhone\n",
      "['CC6740', 'Android']\n",
      "CC6740 Android\n",
      "['DC6359', 'iPhone']\n",
      "DC6359 iPhone\n",
      "['DK3500', 'iPhone']\n",
      "DK3500 iPhone\n",
      "['HV0618', 'iPhone']\n",
      "HV0618 iPhone\n",
      "['JB3156', 'Android']\n",
      "JB3156 Android\n",
      "['JR8022', 'iPhone']\n",
      "JR8022 iPhone\n",
      "['MC7070', 'iPhone']\n",
      "MC7070 iPhone\n",
      "['MJ8002', 'iPhone']\n",
      "MJ8002 iPhone\n",
      "['PC6771', 'iPhone']\n",
      "PC6771 iPhone\n",
      "['SA0297', 'iPhone']\n",
      "SA0297 iPhone\n",
      "['SF3079', 'iPhone']\n",
      "SF3079 iPhone\n"
     ]
    }
   ],
   "source": [
    "import csv\n",
    "pid,phonetype=[],[]\n",
    "dir='/Users/ekargian/Documents/Programming/ML/Projects/LoadCSV/BarCrawl_dataset/data'\n",
    "with open(dir+'/phone_types.csv', 'rb') as f:\n",
    "    reader = csv.reader(f)\n",
    "    for row in reader:\n",
    "        print row\n",
    "        if row[0]!='pid':##skip title line\n",
    "            pid.append(row[0])\n",
    "            phonetype.append(row[1])\n",
    "            print pid[-1],phonetype[-1]\n"
   ]
  },
  {
   "cell_type": "markdown",
   "metadata": {},
   "source": [
    "## 2: pandas read_csv"
   ]
  },
  {
   "cell_type": "code",
   "execution_count": 21,
   "metadata": {},
   "outputs": [
    {
     "name": "stdout",
     "output_type": "stream",
     "text": [
      "(14057568, 5)\n"
     ]
    },
    {
     "data": {
      "text/html": [
       "<div>\n",
       "<style scoped>\n",
       "    .dataframe tbody tr th:only-of-type {\n",
       "        vertical-align: middle;\n",
       "    }\n",
       "\n",
       "    .dataframe tbody tr th {\n",
       "        vertical-align: top;\n",
       "    }\n",
       "\n",
       "    .dataframe thead th {\n",
       "        text-align: right;\n",
       "    }\n",
       "</style>\n",
       "<table border=\"1\" class=\"dataframe\">\n",
       "  <thead>\n",
       "    <tr style=\"text-align: right;\">\n",
       "      <th></th>\n",
       "      <th>time</th>\n",
       "      <th>pid</th>\n",
       "      <th>x</th>\n",
       "      <th>y</th>\n",
       "      <th>z</th>\n",
       "    </tr>\n",
       "  </thead>\n",
       "  <tbody>\n",
       "    <tr>\n",
       "      <th>0</th>\n",
       "      <td>time</td>\n",
       "      <td>pid</td>\n",
       "      <td>x</td>\n",
       "      <td>y</td>\n",
       "      <td>z</td>\n",
       "    </tr>\n",
       "    <tr>\n",
       "      <th>1</th>\n",
       "      <td>0</td>\n",
       "      <td>JB3156</td>\n",
       "      <td>0.0</td>\n",
       "      <td>0.0</td>\n",
       "      <td>0.0</td>\n",
       "    </tr>\n",
       "    <tr>\n",
       "      <th>2</th>\n",
       "      <td>0</td>\n",
       "      <td>CC6740</td>\n",
       "      <td>0.0</td>\n",
       "      <td>0.0</td>\n",
       "      <td>0.0</td>\n",
       "    </tr>\n",
       "    <tr>\n",
       "      <th>3</th>\n",
       "      <td>1493733882409</td>\n",
       "      <td>SA0297</td>\n",
       "      <td>0.0758</td>\n",
       "      <td>0.0273</td>\n",
       "      <td>-0.0102</td>\n",
       "    </tr>\n",
       "    <tr>\n",
       "      <th>4</th>\n",
       "      <td>1493733882455</td>\n",
       "      <td>SA0297</td>\n",
       "      <td>-0.0359</td>\n",
       "      <td>0.0794</td>\n",
       "      <td>0.0037</td>\n",
       "    </tr>\n",
       "  </tbody>\n",
       "</table>\n",
       "</div>"
      ],
      "text/plain": [
       "            time     pid        x       y        z\n",
       "0           time     pid        x       y        z\n",
       "1              0  JB3156      0.0     0.0      0.0\n",
       "2              0  CC6740      0.0     0.0      0.0\n",
       "3  1493733882409  SA0297   0.0758  0.0273  -0.0102\n",
       "4  1493733882455  SA0297  -0.0359  0.0794   0.0037"
      ]
     },
     "execution_count": 21,
     "metadata": {},
     "output_type": "execute_result"
    }
   ],
   "source": [
    "# Load CSV using Pandas from file\n",
    "import pandas as pd\n",
    "names=['time','pid','x','y','z']\n",
    "acc_data=pd.read_csv(dir+'/all_accelerometer_data_pids_13.csv',names=names)\n",
    "print acc_data.shape\n",
    "acc_data.head()"
   ]
  },
  {
   "cell_type": "code",
   "execution_count": 28,
   "metadata": {},
   "outputs": [
    {
     "data": {
      "text/html": [
       "<div>\n",
       "<style scoped>\n",
       "    .dataframe tbody tr th:only-of-type {\n",
       "        vertical-align: middle;\n",
       "    }\n",
       "\n",
       "    .dataframe tbody tr th {\n",
       "        vertical-align: top;\n",
       "    }\n",
       "\n",
       "    .dataframe thead th {\n",
       "        text-align: right;\n",
       "    }\n",
       "</style>\n",
       "<table border=\"1\" class=\"dataframe\">\n",
       "  <thead>\n",
       "    <tr style=\"text-align: right;\">\n",
       "      <th></th>\n",
       "      <th>time</th>\n",
       "      <th>pid</th>\n",
       "      <th>locx</th>\n",
       "      <th>locy</th>\n",
       "      <th>locz</th>\n",
       "    </tr>\n",
       "  </thead>\n",
       "  <tbody>\n",
       "    <tr>\n",
       "      <th>14057563</th>\n",
       "      <td>1493829248196</td>\n",
       "      <td>CC6740</td>\n",
       "      <td>-0.133956</td>\n",
       "      <td>0.124726</td>\n",
       "      <td>-0.010736</td>\n",
       "    </tr>\n",
       "    <tr>\n",
       "      <th>14057564</th>\n",
       "      <td>1493829248220</td>\n",
       "      <td>CC6740</td>\n",
       "      <td>-0.100764</td>\n",
       "      <td>0.180872</td>\n",
       "      <td>0.0464487</td>\n",
       "    </tr>\n",
       "    <tr>\n",
       "      <th>14057565</th>\n",
       "      <td>1493829248245</td>\n",
       "      <td>CC6740</td>\n",
       "      <td>-0.131853</td>\n",
       "      <td>0.195934</td>\n",
       "      <td>0.181088</td>\n",
       "    </tr>\n",
       "    <tr>\n",
       "      <th>14057566</th>\n",
       "      <td>1493829248270</td>\n",
       "      <td>CC6740</td>\n",
       "      <td>-0.149704</td>\n",
       "      <td>0.194482</td>\n",
       "      <td>0.202393</td>\n",
       "    </tr>\n",
       "    <tr>\n",
       "      <th>14057567</th>\n",
       "      <td>1493829248294</td>\n",
       "      <td>CC6740</td>\n",
       "      <td>-0.107288</td>\n",
       "      <td>0.153548</td>\n",
       "      <td>0.168595</td>\n",
       "    </tr>\n",
       "  </tbody>\n",
       "</table>\n",
       "</div>"
      ],
      "text/plain": [
       "                   time     pid      locx      locy       locz\n",
       "14057563  1493829248196  CC6740 -0.133956  0.124726  -0.010736\n",
       "14057564  1493829248220  CC6740 -0.100764  0.180872  0.0464487\n",
       "14057565  1493829248245  CC6740 -0.131853  0.195934   0.181088\n",
       "14057566  1493829248270  CC6740 -0.149704  0.194482   0.202393\n",
       "14057567  1493829248294  CC6740 -0.107288  0.153548   0.168595"
      ]
     },
     "execution_count": 28,
     "metadata": {},
     "output_type": "execute_result"
    }
   ],
   "source": [
    "## examine df\n",
    "acc_data.tail()"
   ]
  },
  {
   "cell_type": "code",
   "execution_count": 31,
   "metadata": {},
   "outputs": [
    {
     "data": {
      "text/plain": [
       "14057568"
      ]
     },
     "execution_count": 31,
     "metadata": {},
     "output_type": "execute_result"
    }
   ],
   "source": [
    "## rename columns\n",
    "acc_data.columns=['time','pid','locx','locy','locz']\n",
    "len(acc_data)"
   ]
  },
  {
   "cell_type": "code",
   "execution_count": 34,
   "metadata": {},
   "outputs": [
    {
     "data": {
      "text/plain": [
       "time    object\n",
       "pid     object\n",
       "locx    object\n",
       "locy    object\n",
       "locz    object\n",
       "dtype: object"
      ]
     },
     "execution_count": 34,
     "metadata": {},
     "output_type": "execute_result"
    }
   ],
   "source": [
    "## data types\n",
    "acc_data.dtypes"
   ]
  },
  {
   "cell_type": "code",
   "execution_count": 41,
   "metadata": {},
   "outputs": [
    {
     "data": {
      "text/plain": [
       "0            True\n",
       "1           False\n",
       "2           False\n",
       "3           False\n",
       "4           False\n",
       "5           False\n",
       "6           False\n",
       "7           False\n",
       "8           False\n",
       "9           False\n",
       "10          False\n",
       "11          False\n",
       "12          False\n",
       "13          False\n",
       "14          False\n",
       "15          False\n",
       "16          False\n",
       "17          False\n",
       "18          False\n",
       "19          False\n",
       "20          False\n",
       "21          False\n",
       "22          False\n",
       "23          False\n",
       "24          False\n",
       "25          False\n",
       "26          False\n",
       "27          False\n",
       "28          False\n",
       "29          False\n",
       "            ...  \n",
       "14057538      NaN\n",
       "14057539      NaN\n",
       "14057540      NaN\n",
       "14057541      NaN\n",
       "14057542      NaN\n",
       "14057543      NaN\n",
       "14057544      NaN\n",
       "14057545      NaN\n",
       "14057546      NaN\n",
       "14057547      NaN\n",
       "14057548      NaN\n",
       "14057549      NaN\n",
       "14057550      NaN\n",
       "14057551      NaN\n",
       "14057552      NaN\n",
       "14057553      NaN\n",
       "14057554      NaN\n",
       "14057555      NaN\n",
       "14057556      NaN\n",
       "14057557      NaN\n",
       "14057558      NaN\n",
       "14057559      NaN\n",
       "14057560      NaN\n",
       "14057561      NaN\n",
       "14057562      NaN\n",
       "14057563      NaN\n",
       "14057564      NaN\n",
       "14057565      NaN\n",
       "14057566      NaN\n",
       "14057567      NaN\n",
       "Name: time, Length: 14057568, dtype: object"
      ]
     },
     "execution_count": 41,
     "metadata": {},
     "output_type": "execute_result"
    }
   ],
   "source": [
    "non_numeric_time = acc_data.time.str.contains('[^0-9.-]')\n",
    "non_numeric_time"
   ]
  },
  {
   "cell_type": "code",
   "execution_count": null,
   "metadata": {},
   "outputs": [],
   "source": []
  },
  {
   "cell_type": "code",
   "execution_count": null,
   "metadata": {},
   "outputs": [],
   "source": []
  },
  {
   "cell_type": "code",
   "execution_count": 20,
   "metadata": {},
   "outputs": [
    {
     "name": "stdout",
     "output_type": "stream",
     "text": [
      "(768, 9)\n",
      "     preg  plas  pres  skin  test  mass   pedi  age  class\n",
      "0       6   148    72    35     0  33.6  0.627   50      1\n",
      "1       1    85    66    29     0  26.6  0.351   31      0\n",
      "2       8   183    64     0     0  23.3  0.672   32      1\n",
      "3       1    89    66    23    94  28.1  0.167   21      0\n",
      "4       0   137    40    35   168  43.1  2.288   33      1\n",
      "5       5   116    74     0     0  25.6  0.201   30      0\n",
      "6       3    78    50    32    88  31.0  0.248   26      1\n",
      "7      10   115     0     0     0  35.3  0.134   29      0\n",
      "8       2   197    70    45   543  30.5  0.158   53      1\n",
      "9       8   125    96     0     0   0.0  0.232   54      1\n",
      "10      4   110    92     0     0  37.6  0.191   30      0\n",
      "11     10   168    74     0     0  38.0  0.537   34      1\n",
      "12     10   139    80     0     0  27.1  1.441   57      0\n",
      "13      1   189    60    23   846  30.1  0.398   59      1\n",
      "14      5   166    72    19   175  25.8  0.587   51      1\n",
      "15      7   100     0     0     0  30.0  0.484   32      1\n",
      "16      0   118    84    47   230  45.8  0.551   31      1\n",
      "17      7   107    74     0     0  29.6  0.254   31      1\n",
      "18      1   103    30    38    83  43.3  0.183   33      0\n",
      "19      1   115    70    30    96  34.6  0.529   32      1\n",
      "20      3   126    88    41   235  39.3  0.704   27      0\n",
      "21      8    99    84     0     0  35.4  0.388   50      0\n",
      "22      7   196    90     0     0  39.8  0.451   41      1\n",
      "23      9   119    80    35     0  29.0  0.263   29      1\n",
      "24     11   143    94    33   146  36.6  0.254   51      1\n",
      "25     10   125    70    26   115  31.1  0.205   41      1\n",
      "26      7   147    76     0     0  39.4  0.257   43      1\n",
      "27      1    97    66    15   140  23.2  0.487   22      0\n",
      "28     13   145    82    19   110  22.2  0.245   57      0\n",
      "29      5   117    92     0     0  34.1  0.337   38      0\n",
      "..    ...   ...   ...   ...   ...   ...    ...  ...    ...\n",
      "738     2    99    60    17   160  36.6  0.453   21      0\n",
      "739     1   102    74     0     0  39.5  0.293   42      1\n",
      "740    11   120    80    37   150  42.3  0.785   48      1\n",
      "741     3   102    44    20    94  30.8  0.400   26      0\n",
      "742     1   109    58    18   116  28.5  0.219   22      0\n",
      "743     9   140    94     0     0  32.7  0.734   45      1\n",
      "744    13   153    88    37   140  40.6  1.174   39      0\n",
      "745    12   100    84    33   105  30.0  0.488   46      0\n",
      "746     1   147    94    41     0  49.3  0.358   27      1\n",
      "747     1    81    74    41    57  46.3  1.096   32      0\n",
      "748     3   187    70    22   200  36.4  0.408   36      1\n",
      "749     6   162    62     0     0  24.3  0.178   50      1\n",
      "750     4   136    70     0     0  31.2  1.182   22      1\n",
      "751     1   121    78    39    74  39.0  0.261   28      0\n",
      "752     3   108    62    24     0  26.0  0.223   25      0\n",
      "753     0   181    88    44   510  43.3  0.222   26      1\n",
      "754     8   154    78    32     0  32.4  0.443   45      1\n",
      "755     1   128    88    39   110  36.5  1.057   37      1\n",
      "756     7   137    90    41     0  32.0  0.391   39      0\n",
      "757     0   123    72     0     0  36.3  0.258   52      1\n",
      "758     1   106    76     0     0  37.5  0.197   26      0\n",
      "759     6   190    92     0     0  35.5  0.278   66      1\n",
      "760     2    88    58    26    16  28.4  0.766   22      0\n",
      "761     9   170    74    31     0  44.0  0.403   43      1\n",
      "762     9    89    62     0     0  22.5  0.142   33      0\n",
      "763    10   101    76    48   180  32.9  0.171   63      0\n",
      "764     2   122    70    27     0  36.8  0.340   27      0\n",
      "765     5   121    72    23   112  26.2  0.245   30      0\n",
      "766     1   126    60     0     0  30.1  0.349   47      1\n",
      "767     1    93    70    31     0  30.4  0.315   23      0\n",
      "\n",
      "[768 rows x 9 columns]\n"
     ]
    }
   ],
   "source": [
    "# Load CSV using Pandas from URL\n",
    "url = \"https://goo.gl/bDdBiA\"\n",
    "names = ['preg', 'plas', 'pres', 'skin', 'test', 'mass', 'pedi', 'age', 'class']\n",
    "data = pd.read_csv(url, names=names)\n",
    "print(data.shape)\n",
    "print data"
   ]
  },
  {
   "cell_type": "code",
   "execution_count": null,
   "metadata": {},
   "outputs": [],
   "source": []
  }
 ],
 "metadata": {
  "kernelspec": {
   "display_name": "Python 2",
   "language": "python",
   "name": "python2"
  },
  "language_info": {
   "codemirror_mode": {
    "name": "ipython",
    "version": 2
   },
   "file_extension": ".py",
   "mimetype": "text/x-python",
   "name": "python",
   "nbconvert_exporter": "python",
   "pygments_lexer": "ipython2",
   "version": "2.7.17"
  }
 },
 "nbformat": 4,
 "nbformat_minor": 2
}
